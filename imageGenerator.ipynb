{
 "cells": [
  {
   "cell_type": "code",
   "execution_count": 1,
   "metadata": {},
   "outputs": [],
   "source": [
    "import pandas as pd\n",
    "import numpy as np\n",
    "from PIL import Image, ImageFont, ImageDraw"
   ]
  },
  {
   "cell_type": "code",
   "execution_count": 2,
   "metadata": {},
   "outputs": [],
   "source": [
    "data = pd.read_csv('20191130 NCST K vs NCUN 31 PLAYS K.KR.P.PR.FG.FGB.csv')"
   ]
  },
  {
   "cell_type": "code",
   "execution_count": 3,
   "metadata": {},
   "outputs": [],
   "source": [
    "team = \"NCST\"\n",
    "# ALL PLAYS DATAFRAMES\n",
    "\n",
    "p = data[(data[\"pff_SPECIALTEAMSTYPE\"] == \"PUNT\") & (data[\"pff_OFFTEAM\"] == team)]\n",
    "kor = data[(data[\"pff_SPECIALTEAMSTYPE\"] == \"KICKOFF\") & (data[\"pff_OFFTEAM\"] == team)]\n",
    "\n",
    "pr = data[(data[\"pff_SPECIALTEAMSTYPE\"] == \"PUNT\") & (data[\"pff_DEFTEAM\"] == team)]\n",
    "ko = data[(data[\"pff_SPECIALTEAMSTYPE\"] == \"KICKOFF\") & (data[\"pff_DEFTEAM\"] == team)]\n",
    "\n",
    "epfg = data[(data[\"pff_SPECIALTEAMSTYPE\"] == \"EXTRA POINT\") | (data[\"pff_SPECIALTEAMSTYPE\"] == \"FIELD GOAL\")]\n",
    "fg = epfg[epfg[\"pff_OFFTEAM\"] == team]\n",
    "fgb = epfg[epfg[\"pff_DEFTEAM\"] == team]"
   ]
  },
  {
   "cell_type": "code",
   "execution_count": 24,
   "metadata": {},
   "outputs": [
    {
     "data": {
      "text/plain": [
       "11    NCST D11 (0.0); NCST D13 (0.0); NCST D21 (0.0)...\n",
       "12    NCST D11 (0.0); NCST D19 (+0.5); NCST D21 (0.0...\n",
       "13    NCST D11 (0.0); NCST D13 (0.0); NCST D21 (0.0)...\n",
       "14    NCST D11 (0.0); NCST D19 (0.0); NCST D21 (0.0)...\n",
       "15    NCST D11 (0.0); NCST D13 (0.0); NCST D21 (0.0)...\n",
       "16    NCST D11 (0.0); NCST D13 (0.0); NCST D21 (0.0)...\n",
       "Name: pff_OFFPLAYERSRATINGS, dtype: object"
      ]
     },
     "execution_count": 24,
     "metadata": {},
     "output_type": "execute_result"
    }
   ],
   "source": [
    "p[\"pff_OFFPLAYERSRATINGS\"]"
   ]
  },
  {
   "cell_type": "code",
   "execution_count": 25,
   "metadata": {},
   "outputs": [
    {
     "name": "stderr",
     "output_type": "stream",
     "text": [
      "/Users/himol7/opt/anaconda3/lib/python3.7/site-packages/ipykernel_launcher.py:27: FutureWarning: Indexing with multiple keys (implicitly converted to a tuple of keys) will be deprecated, use a list instead.\n"
     ]
    }
   ],
   "source": [
    "df = pd.DataFrame(columns = ['POSITION', 'PLAYER', 'COUNT', 'RATING'])\n",
    "\n",
    "formations = ko[\"pff_DEFPLAYERS\"]\n",
    "ratings = ko[\"pff_DEFPLAYERSRATINGS\"]\n",
    "\n",
    "for i in range(len(formations)):\n",
    "    formation = formations[i]\n",
    "    rating = ratings[i]\n",
    "    \n",
    "    formation = formation.replace('NCST ', '').replace('(', '').replace(')', '')\n",
    "    rating = rating.replace('NCST ', '').replace('(', '').replace(')', '')\n",
    "    \n",
    "    player_positions = formation.split('; ')\n",
    "    player_ratings = rating.split('; ')\n",
    "    \n",
    "    for j in range(len(player_positions)):\n",
    "        player_position = player_positions[j]\n",
    "        player_rating = player_ratings[j]\n",
    "        \n",
    "        player, position = player_position.split(' ')\n",
    "        player, rating = player_rating.split(' ')\n",
    "        \n",
    "        new_player = {\"POSITION\": position, \"PLAYER\": player, \"COUNT\": int(1), \"RATING\": float(rating)}\n",
    "        df = df.append(new_player, ignore_index = True)\n",
    "        \n",
    "df[\"COUNT\"] = df[\"COUNT\"].astype('int')\n",
    "playerPositionCountsRatings = df.groupby(['POSITION', 'PLAYER'], as_index=False)['COUNT', 'RATING'].sum()"
   ]
  },
  {
   "cell_type": "code",
   "execution_count": 26,
   "metadata": {},
   "outputs": [
    {
     "data": {
      "text/html": [
       "<div>\n",
       "<style scoped>\n",
       "    .dataframe tbody tr th:only-of-type {\n",
       "        vertical-align: middle;\n",
       "    }\n",
       "\n",
       "    .dataframe tbody tr th {\n",
       "        vertical-align: top;\n",
       "    }\n",
       "\n",
       "    .dataframe thead th {\n",
       "        text-align: right;\n",
       "    }\n",
       "</style>\n",
       "<table border=\"1\" class=\"dataframe\">\n",
       "  <thead>\n",
       "    <tr style=\"text-align: right;\">\n",
       "      <th></th>\n",
       "      <th>POSITION</th>\n",
       "      <th>PLAYER</th>\n",
       "      <th>COUNT</th>\n",
       "      <th>RATING</th>\n",
       "    </tr>\n",
       "  </thead>\n",
       "  <tbody>\n",
       "    <tr>\n",
       "      <th>0</th>\n",
       "      <td>L1</td>\n",
       "      <td>34</td>\n",
       "      <td>1</td>\n",
       "      <td>0.0</td>\n",
       "    </tr>\n",
       "    <tr>\n",
       "      <th>1</th>\n",
       "      <td>L1</td>\n",
       "      <td>D21</td>\n",
       "      <td>1</td>\n",
       "      <td>0.0</td>\n",
       "    </tr>\n",
       "    <tr>\n",
       "      <th>2</th>\n",
       "      <td>L1</td>\n",
       "      <td>D25</td>\n",
       "      <td>1</td>\n",
       "      <td>0.0</td>\n",
       "    </tr>\n",
       "    <tr>\n",
       "      <th>3</th>\n",
       "      <td>L2</td>\n",
       "      <td>38</td>\n",
       "      <td>2</td>\n",
       "      <td>0.0</td>\n",
       "    </tr>\n",
       "    <tr>\n",
       "      <th>4</th>\n",
       "      <td>L2</td>\n",
       "      <td>D19</td>\n",
       "      <td>1</td>\n",
       "      <td>0.5</td>\n",
       "    </tr>\n",
       "    <tr>\n",
       "      <th>5</th>\n",
       "      <td>L3</td>\n",
       "      <td>37</td>\n",
       "      <td>2</td>\n",
       "      <td>0.0</td>\n",
       "    </tr>\n",
       "    <tr>\n",
       "      <th>6</th>\n",
       "      <td>L3</td>\n",
       "      <td>D30</td>\n",
       "      <td>1</td>\n",
       "      <td>-0.5</td>\n",
       "    </tr>\n",
       "    <tr>\n",
       "      <th>7</th>\n",
       "      <td>L4</td>\n",
       "      <td>36</td>\n",
       "      <td>1</td>\n",
       "      <td>0.0</td>\n",
       "    </tr>\n",
       "    <tr>\n",
       "      <th>8</th>\n",
       "      <td>L4</td>\n",
       "      <td>D11</td>\n",
       "      <td>1</td>\n",
       "      <td>1.0</td>\n",
       "    </tr>\n",
       "    <tr>\n",
       "      <th>9</th>\n",
       "      <td>L4</td>\n",
       "      <td>D22</td>\n",
       "      <td>1</td>\n",
       "      <td>0.0</td>\n",
       "    </tr>\n",
       "    <tr>\n",
       "      <th>10</th>\n",
       "      <td>L5</td>\n",
       "      <td>36</td>\n",
       "      <td>1</td>\n",
       "      <td>0.0</td>\n",
       "    </tr>\n",
       "    <tr>\n",
       "      <th>11</th>\n",
       "      <td>L5</td>\n",
       "      <td>D22</td>\n",
       "      <td>1</td>\n",
       "      <td>0.0</td>\n",
       "    </tr>\n",
       "    <tr>\n",
       "      <th>12</th>\n",
       "      <td>L5</td>\n",
       "      <td>D39</td>\n",
       "      <td>1</td>\n",
       "      <td>0.0</td>\n",
       "    </tr>\n",
       "    <tr>\n",
       "      <th>13</th>\n",
       "      <td>PK</td>\n",
       "      <td>S99</td>\n",
       "      <td>3</td>\n",
       "      <td>-0.5</td>\n",
       "    </tr>\n",
       "    <tr>\n",
       "      <th>14</th>\n",
       "      <td>R1</td>\n",
       "      <td>D21</td>\n",
       "      <td>2</td>\n",
       "      <td>0.0</td>\n",
       "    </tr>\n",
       "    <tr>\n",
       "      <th>15</th>\n",
       "      <td>R1</td>\n",
       "      <td>D25</td>\n",
       "      <td>1</td>\n",
       "      <td>0.0</td>\n",
       "    </tr>\n",
       "    <tr>\n",
       "      <th>16</th>\n",
       "      <td>R2</td>\n",
       "      <td>38</td>\n",
       "      <td>1</td>\n",
       "      <td>0.0</td>\n",
       "    </tr>\n",
       "    <tr>\n",
       "      <th>17</th>\n",
       "      <td>R2</td>\n",
       "      <td>D19</td>\n",
       "      <td>2</td>\n",
       "      <td>0.0</td>\n",
       "    </tr>\n",
       "    <tr>\n",
       "      <th>18</th>\n",
       "      <td>R3</td>\n",
       "      <td>37</td>\n",
       "      <td>1</td>\n",
       "      <td>-0.5</td>\n",
       "    </tr>\n",
       "    <tr>\n",
       "      <th>19</th>\n",
       "      <td>R3</td>\n",
       "      <td>D30</td>\n",
       "      <td>2</td>\n",
       "      <td>0.0</td>\n",
       "    </tr>\n",
       "    <tr>\n",
       "      <th>20</th>\n",
       "      <td>R4</td>\n",
       "      <td>36</td>\n",
       "      <td>1</td>\n",
       "      <td>0.0</td>\n",
       "    </tr>\n",
       "    <tr>\n",
       "      <th>21</th>\n",
       "      <td>R4</td>\n",
       "      <td>D11</td>\n",
       "      <td>2</td>\n",
       "      <td>0.5</td>\n",
       "    </tr>\n",
       "    <tr>\n",
       "      <th>22</th>\n",
       "      <td>R5</td>\n",
       "      <td>D22</td>\n",
       "      <td>1</td>\n",
       "      <td>0.0</td>\n",
       "    </tr>\n",
       "    <tr>\n",
       "      <th>23</th>\n",
       "      <td>R5</td>\n",
       "      <td>D39</td>\n",
       "      <td>2</td>\n",
       "      <td>0.0</td>\n",
       "    </tr>\n",
       "  </tbody>\n",
       "</table>\n",
       "</div>"
      ],
      "text/plain": [
       "   POSITION PLAYER  COUNT  RATING\n",
       "0        L1     34      1     0.0\n",
       "1        L1    D21      1     0.0\n",
       "2        L1    D25      1     0.0\n",
       "3        L2     38      2     0.0\n",
       "4        L2    D19      1     0.5\n",
       "5        L3     37      2     0.0\n",
       "6        L3    D30      1    -0.5\n",
       "7        L4     36      1     0.0\n",
       "8        L4    D11      1     1.0\n",
       "9        L4    D22      1     0.0\n",
       "10       L5     36      1     0.0\n",
       "11       L5    D22      1     0.0\n",
       "12       L5    D39      1     0.0\n",
       "13       PK    S99      3    -0.5\n",
       "14       R1    D21      2     0.0\n",
       "15       R1    D25      1     0.0\n",
       "16       R2     38      1     0.0\n",
       "17       R2    D19      2     0.0\n",
       "18       R3     37      1    -0.5\n",
       "19       R3    D30      2     0.0\n",
       "20       R4     36      1     0.0\n",
       "21       R4    D11      2     0.5\n",
       "22       R5    D22      1     0.0\n",
       "23       R5    D39      2     0.0"
      ]
     },
     "execution_count": 26,
     "metadata": {},
     "output_type": "execute_result"
    }
   ],
   "source": [
    "playerPositionCountsRatings"
   ]
  },
  {
   "cell_type": "code",
   "execution_count": null,
   "metadata": {},
   "outputs": [],
   "source": [
    "print(players)\n",
    "print(rating)"
   ]
  },
  {
   "cell_type": "code",
   "execution_count": 4,
   "metadata": {},
   "outputs": [],
   "source": [
    "plays = ko[\"pff_DEFPLAYERS\"]"
   ]
  },
  {
   "cell_type": "code",
   "execution_count": 9,
   "metadata": {},
   "outputs": [
    {
     "data": {
      "text/plain": [
       "0    NCST D11 (+0.5); NCST D19 (0.0); NCST D21 (0.0...\n",
       "1    NCST D11 (+1.0); NCST D19 (+0.5); NCST D21 (0....\n",
       "2    NCST D11 (0.0); NCST D19 (0.0); NCST D21 (0.0)...\n",
       "Name: pff_DEFPLAYERSRATINGS, dtype: object"
      ]
     },
     "execution_count": 9,
     "metadata": {},
     "output_type": "execute_result"
    }
   ],
   "source": [
    "ko[\"pff_DEFPLAYERSRATINGS\"]"
   ]
  },
  {
   "cell_type": "code",
   "execution_count": 6,
   "metadata": {},
   "outputs": [
    {
     "name": "stdout",
     "output_type": "stream",
     "text": [
      "0    NCST D11 (R4); NCST D19 (R2); NCST D21 (R1); N...\n",
      "1    NCST D11 (L4); NCST D19 (L2); NCST D21 (L1); N...\n",
      "2    NCST D11 (R4); NCST D19 (R2); NCST D21 (R1); N...\n",
      "Name: pff_DEFPLAYERS, dtype: object\n"
     ]
    }
   ],
   "source": [
    "print(plays)"
   ]
  },
  {
   "cell_type": "code",
   "execution_count": 5,
   "metadata": {},
   "outputs": [],
   "source": [
    "df = pd.DataFrame(columns = ['POSITION', 'PLAYER', 'COUNT'])\n",
    "for play in plays:\n",
    "    play = play.replace('NCST ', '').replace('(', '').replace(')', '')\n",
    "    for player in play.split('; '):\n",
    "        player_no, player_position = player.split(' ')\n",
    "        new_player = {\"POSITION\": player_position, \"PLAYER\": player_no, \"COUNT\": 1}\n",
    "        df = df.append(new_player, ignore_index = True)\n",
    "        position_player_total = df.groupby(['POSITION', 'PLAYER'], as_index=False).sum()"
   ]
  },
  {
   "cell_type": "code",
   "execution_count": 6,
   "metadata": {},
   "outputs": [],
   "source": [
    "coordinates = {\n",
    "    \"R1\" : (20, 140),\n",
    "    \"R2\" : (65, 140),\n",
    "    \"R3\" : (110, 140),\n",
    "    \"R4\" : (155, 140),\n",
    "    \"R5\" : (200, 140),\n",
    "    \"PK\" : (245, 140),\n",
    "    \"L5\" : (290, 140),\n",
    "    \"L4\" : (335, 140),\n",
    "    \"L3\" : (380, 140),\n",
    "    \"L2\" : (425, 140),\n",
    "    \"L1\" : (470, 140)\n",
    "}"
   ]
  },
  {
   "cell_type": "code",
   "execution_count": 8,
   "metadata": {},
   "outputs": [],
   "source": [
    "image = Image.open('kickoff_coverage.png')\n",
    "font = ImageFont.truetype('arial_bold.ttf', size=10)\n",
    "draw = ImageDraw.Draw(image)\n",
    "\n",
    "for position, positional_group in position_player_total.groupby(['POSITION']):\n",
    "    (x, y) = coordinates.get(position)\n",
    "    message = ''\n",
    "    for index, player in positional_group.iterrows():\n",
    "        message = message + str(player[\"PLAYER\"]) + \" \" + str(player[\"COUNT\"]) + '\\n'\n",
    "    color = 'rgb(0, 0, 0)'\n",
    "    draw.text((x, y), message, fill=color, font=font)\n",
    "image.save('trial2.png')"
   ]
  },
  {
   "cell_type": "code",
   "execution_count": null,
   "metadata": {},
   "outputs": [],
   "source": []
  }
 ],
 "metadata": {
  "kernelspec": {
   "display_name": "Python 3",
   "language": "python",
   "name": "python3"
  },
  "language_info": {
   "codemirror_mode": {
    "name": "ipython",
    "version": 3
   },
   "file_extension": ".py",
   "mimetype": "text/x-python",
   "name": "python",
   "nbconvert_exporter": "python",
   "pygments_lexer": "ipython3",
   "version": "3.7.6"
  }
 },
 "nbformat": 4,
 "nbformat_minor": 4
}
