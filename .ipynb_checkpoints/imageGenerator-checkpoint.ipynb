{
 "cells": [
  {
   "cell_type": "code",
   "execution_count": 1,
   "metadata": {},
   "outputs": [],
   "source": [
    "import pandas as pd\n",
    "import numpy as np\n",
    "from PIL import Image, ImageFont, ImageDraw"
   ]
  },
  {
   "cell_type": "code",
   "execution_count": 3,
   "metadata": {},
   "outputs": [],
   "source": [
    "data = pd.read_csv('20191130 NCST K vs NCUN 31 PLAYS K.KR.P.PR.FG.FGB.csv')"
   ]
  },
  {
   "cell_type": "code",
   "execution_count": 3,
   "metadata": {},
   "outputs": [],
   "source": [
    "team = \"NCST\"\n",
    "# ALL PLAYS DATAFRAMES\n",
    "\n",
    "p = data[(data[\"pff_SPECIALTEAMSTYPE\"] == \"PUNT\") & (data[\"pff_OFFTEAM\"] == team)]\n",
    "kor = data[(data[\"pff_SPECIALTEAMSTYPE\"] == \"KICKOFF\") & (data[\"pff_OFFTEAM\"] == team)]\n",
    "\n",
    "pr = data[(data[\"pff_SPECIALTEAMSTYPE\"] == \"PUNT\") & (data[\"pff_DEFTEAM\"] == team)]\n",
    "ko = data[(data[\"pff_SPECIALTEAMSTYPE\"] == \"KICKOFF\") & (data[\"pff_DEFTEAM\"] == team)]\n",
    "\n",
    "epfg = data[(data[\"pff_SPECIALTEAMSTYPE\"] == \"EXTRA POINT\") | (data[\"pff_SPECIALTEAMSTYPE\"] == \"FIELD GOAL\")]\n",
    "fg = epfg[epfg[\"pff_OFFTEAM\"] == team]\n",
    "fgb = epfg[epfg[\"pff_DEFTEAM\"] == team]"
   ]
  },
  {
   "cell_type": "code",
   "execution_count": 4,
   "metadata": {},
   "outputs": [],
   "source": [
    "plays = ko[\"pff_DEFPLAYERS\"]"
   ]
  },
  {
   "cell_type": "code",
   "execution_count": 5,
   "metadata": {},
   "outputs": [],
   "source": [
    "df = pd.DataFrame(columns = ['POSITION', 'PLAYER', 'COUNT'])\n",
    "for play in plays:\n",
    "    play = play.replace('NCST ', '').replace('(', '').replace(')', '')\n",
    "    for player in play.split('; '):\n",
    "        player_no, player_position = player.split(' ')\n",
    "        new_player = {\"POSITION\": player_position, \"PLAYER\": player_no, \"COUNT\": 1}\n",
    "        df = df.append(new_player, ignore_index = True)\n",
    "        position_player_total = df.groupby(['POSITION', 'PLAYER'], as_index=False).sum()"
   ]
  },
  {
   "cell_type": "code",
   "execution_count": 6,
   "metadata": {},
   "outputs": [],
   "source": [
    "coordinates = {\n",
    "    \"R1\" : (20, 140),\n",
    "    \"R2\" : (65, 140),\n",
    "    \"R3\" : (110, 140),\n",
    "    \"R4\" : (155, 140),\n",
    "    \"R5\" : (200, 140),\n",
    "    \"PK\" : (245, 140),\n",
    "    \"L5\" : (290, 140),\n",
    "    \"L4\" : (335, 140),\n",
    "    \"L3\" : (380, 140),\n",
    "    \"L2\" : (425, 140),\n",
    "    \"L1\" : (470, 140)\n",
    "}"
   ]
  },
  {
   "cell_type": "code",
   "execution_count": 8,
   "metadata": {},
   "outputs": [],
   "source": [
    "image = Image.open('kickoff_coverage.png')\n",
    "font = ImageFont.truetype('arial_bold.ttf', size=10)\n",
    "draw = ImageDraw.Draw(image)\n",
    "\n",
    "for position, positional_group in position_player_total.groupby(['POSITION']):\n",
    "    (x, y) = coordinates.get(position)\n",
    "    message = ''\n",
    "    for index, player in positional_group.iterrows():\n",
    "        message = message + str(player[\"PLAYER\"]) + \" \" + str(player[\"COUNT\"]) + '\\n'\n",
    "    color = 'rgb(0, 0, 0)'\n",
    "    draw.text((x, y), message, fill=color, font=font)\n",
    "image.save('trial2.png')"
   ]
  },
  {
   "cell_type": "code",
   "execution_count": null,
   "metadata": {},
   "outputs": [],
   "source": []
  }
 ],
 "metadata": {
  "kernelspec": {
   "display_name": "Python 3",
   "language": "python",
   "name": "python3"
  },
  "language_info": {
   "codemirror_mode": {
    "name": "ipython",
    "version": 3
   },
   "file_extension": ".py",
   "mimetype": "text/x-python",
   "name": "python",
   "nbconvert_exporter": "python",
   "pygments_lexer": "ipython3",
   "version": "3.7.6"
  }
 },
 "nbformat": 4,
 "nbformat_minor": 4
}
